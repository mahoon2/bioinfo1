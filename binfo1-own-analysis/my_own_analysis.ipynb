{
 "cells": [
  {
   "cell_type": "code",
   "execution_count": 1,
   "id": "0af09207",
   "metadata": {},
   "outputs": [],
   "source": [
    "import pandas as pd\n",
    "import numpy as np\n",
    "import os\n",
    "import matplotlib.pyplot as plt\n",
    "import seaborn as sns"
   ]
  },
  {
   "cell_type": "markdown",
   "id": "01eb7991",
   "metadata": {},
   "source": [
    "# Finding possible interactors of LIN28A which might cause peri-ER localization\n",
    "\n",
    "The original article suggested strong evidences such that:\n",
    "- Integral membrane protein coding mRNAs are highly enriched by LIN28A (and also, their translation highly downregulated)\n",
    "- Specifically, cotranslationally ER translocated mRNAs are highly enriched by LIN28A\n",
    "- LIN28A is localized to peri-ER area\n",
    "\n",
    "But since motif score analysis done by HMM didn't show differences between ER-associated mRNAs and non-ER-associated mRNAs, we still don't know why LIN28A is localized to peri-ER area. So I will start from following hypotheses:\n",
    "1. LIN28A interacts with ER surface protein/lipid\n",
    "2. LIN28A interacts with RBP or adapter protein s.t. cotranslationally bounds to ER-associated mRNA.\n",
    "3. LIN28A directly recognizes ER-associated mRNA sequence/structure/modification context."
   ]
  },
  {
   "cell_type": "markdown",
   "id": "b4755aed",
   "metadata": {},
   "source": [
    "Performed some pilot research, but found no evidences supporting hypothesis 1 and 2. Using other CLIP-seq or Ribosome profiling (a.k.a. Ribosome footprinting) data to find other novel recognition site of LIN28A would be better."
   ]
  },
  {
   "cell_type": "code",
   "execution_count": null,
   "id": "e3201964",
   "metadata": {},
   "outputs": [],
   "source": [
    "# So let's start from here..."
   ]
  },
  {
   "cell_type": "markdown",
   "id": "d53fcd90",
   "metadata": {},
   "source": [
    "# New research plan: calculating codon occupancy with ribosome profiling data\n",
    "\n",
    "1. Get P-site offset w.r.t read length\n",
    "2. Calculate P-site occupancy over exons\n",
    "3. Calculate and nomalize codon occupancy"
   ]
  },
  {
   "cell_type": "code",
   "execution_count": null,
   "id": "3686f2f8",
   "metadata": {},
   "outputs": [],
   "source": [
    "# Manually extract exons with start codon\n",
    "!grep $'\\tstart_codon\\t.*\\t[+-]\\t.*transcript_support_level \"1\"' ../binfo1-datapack1/gencode.gtf | \\\n",
    "    sed -e 's/\t[^\t]*transcript_id \"\\([^\"]*\\)\".*$/\t\\1/g' > gencode-start.gtf"
   ]
  },
  {
   "cell_type": "code",
   "execution_count": null,
   "id": "926aec49",
   "metadata": {},
   "outputs": [],
   "source": [
    "!grep $'\\texon\\t.*\\t[+-]\\t.*transcript_support_level \"1\"' ../binfo1-datapack1/gencode.gtf | \\\n",
    "    sed -e 's/\t[^\t]*transcript_id \"\\([^\"]*\\)\".*$/\t\\1/g' > gencode-exon.gtf"
   ]
  },
  {
   "cell_type": "code",
   "execution_count": null,
   "id": "fd9303a7",
   "metadata": {},
   "outputs": [],
   "source": [
    "!bedtools intersect -a gencode-start.gtf -b gencode-exon.gtf -wa -wb | \\\n",
    " awk -F'\t' -v OFS='\t' '$9 == $18 { print $10, $13-1, $14, $18, $4-1, $16; }' | \\\n",
    " sort -k1,1 -k2,3n -k4,4 > gencode-exons-containing-startcodon.bed\n",
    "!head gencode-exons-containing-startcodon.bed; tail gencode-exons-containing-startcodon.bed"
   ]
  },
  {
   "cell_type": "code",
   "execution_count": null,
   "id": "84425472",
   "metadata": {},
   "outputs": [],
   "source": [
    "# Now remove duplicates\n",
    "%cd ../binfo1-datapack1\n",
    "!stringtie RNA-siLuc.bam -G gencode.gtf -o stringtie-RNA-siLuc.gtf -p 10\n",
    "!awk -F'\\t' '$3 == \"transcript\"' stringtie-RNA-siLuc.gtf > stringtie-RNA-siLuc-transcript.gtf"
   ]
  },
  {
   "cell_type": "code",
   "execution_count": 2,
   "id": "201dc761",
   "metadata": {},
   "outputs": [
    {
     "name": "stdout",
     "output_type": "stream",
     "text": [
      "/qbio/mahoon2/bioinfo1/binfo1-datapack1\n"
     ]
    }
   ],
   "source": [
    "%cd ../binfo1-datapack1/"
   ]
  },
  {
   "cell_type": "code",
   "execution_count": 3,
   "id": "d1eb7801",
   "metadata": {},
   "outputs": [],
   "source": [
    "df = pd.read_csv('stringtie-RNA-siLuc-transcript.gtf', sep='\\t', header=None)\n",
    "df.columns = ['chromosome', 'program', 'type', 'start', 'end', 'unnamed1', 'strand', 'unnamed2', 'info']"
   ]
  },
  {
   "cell_type": "code",
   "execution_count": 5,
   "id": "3362be8d",
   "metadata": {},
   "outputs": [
    {
     "data": {
      "application/vnd.microsoft.datawrangler.viewer.v0+json": {
       "columns": [
        {
         "name": "index",
         "rawType": "int64",
         "type": "integer"
        },
        {
         "name": "chromosome",
         "rawType": "object",
         "type": "string"
        },
        {
         "name": "program",
         "rawType": "object",
         "type": "string"
        },
        {
         "name": "type",
         "rawType": "object",
         "type": "string"
        },
        {
         "name": "start",
         "rawType": "int64",
         "type": "integer"
        },
        {
         "name": "end",
         "rawType": "int64",
         "type": "integer"
        },
        {
         "name": "unnamed1",
         "rawType": "int64",
         "type": "integer"
        },
        {
         "name": "strand",
         "rawType": "object",
         "type": "string"
        },
        {
         "name": "unnamed2",
         "rawType": "object",
         "type": "string"
        },
        {
         "name": "info",
         "rawType": "object",
         "type": "string"
        },
        {
         "name": "TPM",
         "rawType": "float64",
         "type": "float"
        },
        {
         "name": "transcript_id",
         "rawType": "object",
         "type": "string"
        }
       ],
       "ref": "c850ba6e-7f7a-4811-8f34-3a79003d7e48",
       "rows": [
        [
         "0",
         "chr1",
         "StringTie",
         "transcript",
         "3822233",
         "3824583",
         "1000",
         "+",
         ".",
         "gene_id \"STRG.1\"; transcript_id \"STRG.1.1\"; reference_id \"ENSMUST00000194454.2\"; ref_gene_id \"ENSMUSG00000102592.2\"; ref_gene_name \"Gm38385\"; cov \"0.017014\"; FPKM \"0.026944\"; TPM \"0.035499\";",
         "0.035499",
         "ENSMUST00000194454.2"
        ],
        [
         "1",
         "chr1",
         "StringTie",
         "transcript",
         "4599240",
         "4599346",
         "1000",
         "+",
         ".",
         "gene_id \"STRG.2\"; transcript_id \"STRG.2.1\"; reference_id \"ENSMUST00000240255.1\"; ref_gene_id \"ENSMUSG00000118917.1\"; ref_gene_name \"U6\"; cov \"0.078924\"; FPKM \"0.124985\"; TPM \"0.164673\";",
         "0.164673",
         "ENSMUST00000240255.1"
        ],
        [
         "2",
         "chr1",
         "StringTie",
         "transcript",
         "4680694",
         "4681629",
         "1000",
         "+",
         ".",
         "gene_id \"STRG.3\"; transcript_id \"STRG.3.1\"; reference_id \"ENSMUST00000192738.2\"; ref_gene_id \"ENSMUSG00000102735.2\"; ref_gene_name \"Gm7369\"; cov \"0.486874\"; FPKM \"0.771021\"; TPM \"1.015851\";",
         "1.015851",
         "ENSMUST00000192738.2"
        ],
        [
         "3",
         "chr1",
         "StringTie",
         "transcript",
         "4758157",
         "4759626",
         "1000",
         "-",
         ".",
         "gene_id \"STRG.4\"; transcript_id \"STRG.4.1\"; reference_id \"ENSMUST00000182774.2\"; ref_gene_id \"ENSMUSG00000098104.2\"; ref_gene_name \"Gm6085\"; cov \"3.173863\"; FPKM \"5.026175\"; TPM \"6.622187\";",
         "6.622187",
         "ENSMUST00000182774.2"
        ],
        [
         "4",
         "chr1",
         "StringTie",
         "transcript",
         "4762442",
         "4763647",
         "1000",
         "-",
         ".",
         "gene_id \"STRG.5\"; transcript_id \"STRG.5.1\"; reference_id \"ENSMUST00000193443.2\"; ref_gene_id \"ENSMUSG00000102175.2\"; ref_gene_name \"Gm6119\"; cov \"0.149806\"; FPKM \"0.237235\"; TPM \"0.312567\";",
         "0.312567",
         "ENSMUST00000193443.2"
        ]
       ],
       "shape": {
        "columns": 11,
        "rows": 5
       }
      },
      "text/html": [
       "<div>\n",
       "<style scoped>\n",
       "    .dataframe tbody tr th:only-of-type {\n",
       "        vertical-align: middle;\n",
       "    }\n",
       "\n",
       "    .dataframe tbody tr th {\n",
       "        vertical-align: top;\n",
       "    }\n",
       "\n",
       "    .dataframe thead th {\n",
       "        text-align: right;\n",
       "    }\n",
       "</style>\n",
       "<table border=\"1\" class=\"dataframe\">\n",
       "  <thead>\n",
       "    <tr style=\"text-align: right;\">\n",
       "      <th></th>\n",
       "      <th>chromosome</th>\n",
       "      <th>program</th>\n",
       "      <th>type</th>\n",
       "      <th>start</th>\n",
       "      <th>end</th>\n",
       "      <th>unnamed1</th>\n",
       "      <th>strand</th>\n",
       "      <th>unnamed2</th>\n",
       "      <th>info</th>\n",
       "      <th>TPM</th>\n",
       "      <th>transcript_id</th>\n",
       "    </tr>\n",
       "  </thead>\n",
       "  <tbody>\n",
       "    <tr>\n",
       "      <th>0</th>\n",
       "      <td>chr1</td>\n",
       "      <td>StringTie</td>\n",
       "      <td>transcript</td>\n",
       "      <td>3822233</td>\n",
       "      <td>3824583</td>\n",
       "      <td>1000</td>\n",
       "      <td>+</td>\n",
       "      <td>.</td>\n",
       "      <td>gene_id \"STRG.1\"; transcript_id \"STRG.1.1\"; re...</td>\n",
       "      <td>0.035499</td>\n",
       "      <td>ENSMUST00000194454.2</td>\n",
       "    </tr>\n",
       "    <tr>\n",
       "      <th>1</th>\n",
       "      <td>chr1</td>\n",
       "      <td>StringTie</td>\n",
       "      <td>transcript</td>\n",
       "      <td>4599240</td>\n",
       "      <td>4599346</td>\n",
       "      <td>1000</td>\n",
       "      <td>+</td>\n",
       "      <td>.</td>\n",
       "      <td>gene_id \"STRG.2\"; transcript_id \"STRG.2.1\"; re...</td>\n",
       "      <td>0.164673</td>\n",
       "      <td>ENSMUST00000240255.1</td>\n",
       "    </tr>\n",
       "    <tr>\n",
       "      <th>2</th>\n",
       "      <td>chr1</td>\n",
       "      <td>StringTie</td>\n",
       "      <td>transcript</td>\n",
       "      <td>4680694</td>\n",
       "      <td>4681629</td>\n",
       "      <td>1000</td>\n",
       "      <td>+</td>\n",
       "      <td>.</td>\n",
       "      <td>gene_id \"STRG.3\"; transcript_id \"STRG.3.1\"; re...</td>\n",
       "      <td>1.015851</td>\n",
       "      <td>ENSMUST00000192738.2</td>\n",
       "    </tr>\n",
       "    <tr>\n",
       "      <th>3</th>\n",
       "      <td>chr1</td>\n",
       "      <td>StringTie</td>\n",
       "      <td>transcript</td>\n",
       "      <td>4758157</td>\n",
       "      <td>4759626</td>\n",
       "      <td>1000</td>\n",
       "      <td>-</td>\n",
       "      <td>.</td>\n",
       "      <td>gene_id \"STRG.4\"; transcript_id \"STRG.4.1\"; re...</td>\n",
       "      <td>6.622187</td>\n",
       "      <td>ENSMUST00000182774.2</td>\n",
       "    </tr>\n",
       "    <tr>\n",
       "      <th>4</th>\n",
       "      <td>chr1</td>\n",
       "      <td>StringTie</td>\n",
       "      <td>transcript</td>\n",
       "      <td>4762442</td>\n",
       "      <td>4763647</td>\n",
       "      <td>1000</td>\n",
       "      <td>-</td>\n",
       "      <td>.</td>\n",
       "      <td>gene_id \"STRG.5\"; transcript_id \"STRG.5.1\"; re...</td>\n",
       "      <td>0.312567</td>\n",
       "      <td>ENSMUST00000193443.2</td>\n",
       "    </tr>\n",
       "  </tbody>\n",
       "</table>\n",
       "</div>"
      ],
      "text/plain": [
       "  chromosome    program        type    start      end  unnamed1 strand  \\\n",
       "0       chr1  StringTie  transcript  3822233  3824583      1000      +   \n",
       "1       chr1  StringTie  transcript  4599240  4599346      1000      +   \n",
       "2       chr1  StringTie  transcript  4680694  4681629      1000      +   \n",
       "3       chr1  StringTie  transcript  4758157  4759626      1000      -   \n",
       "4       chr1  StringTie  transcript  4762442  4763647      1000      -   \n",
       "\n",
       "  unnamed2                                               info       TPM  \\\n",
       "0        .  gene_id \"STRG.1\"; transcript_id \"STRG.1.1\"; re...  0.035499   \n",
       "1        .  gene_id \"STRG.2\"; transcript_id \"STRG.2.1\"; re...  0.164673   \n",
       "2        .  gene_id \"STRG.3\"; transcript_id \"STRG.3.1\"; re...  1.015851   \n",
       "3        .  gene_id \"STRG.4\"; transcript_id \"STRG.4.1\"; re...  6.622187   \n",
       "4        .  gene_id \"STRG.5\"; transcript_id \"STRG.5.1\"; re...  0.312567   \n",
       "\n",
       "          transcript_id  \n",
       "0  ENSMUST00000194454.2  \n",
       "1  ENSMUST00000240255.1  \n",
       "2  ENSMUST00000192738.2  \n",
       "3  ENSMUST00000182774.2  \n",
       "4  ENSMUST00000193443.2  "
      ]
     },
     "execution_count": 5,
     "metadata": {},
     "output_type": "execute_result"
    }
   ],
   "source": [
    "df['TPM'] = df['info'].str.extract(r'TPM \"([^\"]+)\"').astype(float)\n",
    "df['transcript_id'] = df['info'].str.extract(r'reference_id \"([^\"]+)\"')\n",
    "df.head()"
   ]
  },
  {
   "cell_type": "code",
   "execution_count": 8,
   "id": "bb3f6e71",
   "metadata": {},
   "outputs": [
    {
     "name": "stdout",
     "output_type": "stream",
     "text": [
      "/qbio/mahoon2/bioinfo1/binfo1-own-analysis\n"
     ]
    },
    {
     "data": {
      "application/vnd.microsoft.datawrangler.viewer.v0+json": {
       "columns": [
        {
         "name": "index",
         "rawType": "int64",
         "type": "integer"
        },
        {
         "name": "chromosome",
         "rawType": "object",
         "type": "string"
        },
        {
         "name": "start",
         "rawType": "int64",
         "type": "integer"
        },
        {
         "name": "end",
         "rawType": "int64",
         "type": "integer"
        },
        {
         "name": "transcript_id",
         "rawType": "object",
         "type": "string"
        },
        {
         "name": "start_codon",
         "rawType": "int64",
         "type": "integer"
        },
        {
         "name": "strand",
         "rawType": "object",
         "type": "string"
        }
       ],
       "ref": "f5afb47c-9f30-43f7-8cb1-1a016a2aae4d",
       "rows": [
        [
         "0",
         "chr1",
         "3740774",
         "3741721",
         "ENSMUST00000070533.5",
         "3741568",
         "-"
        ],
        [
         "1",
         "chr1",
         "4422424",
         "4423060",
         "ENSMUST00000027032.6",
         "4423045",
         "-"
        ],
        [
         "2",
         "chr1",
         "4563322",
         "4563689",
         "ENSMUST00000027035.10",
         "4563626",
         "-"
        ],
        [
         "3",
         "chr1",
         "4563322",
         "4563713",
         "ENSMUST00000116652.8",
         "4563626",
         "-"
        ],
        [
         "4",
         "chr1",
         "4563322",
         "4563958",
         "ENSMUST00000191939.2",
         "4563626",
         "-"
        ]
       ],
       "shape": {
        "columns": 6,
        "rows": 5
       }
      },
      "text/html": [
       "<div>\n",
       "<style scoped>\n",
       "    .dataframe tbody tr th:only-of-type {\n",
       "        vertical-align: middle;\n",
       "    }\n",
       "\n",
       "    .dataframe tbody tr th {\n",
       "        vertical-align: top;\n",
       "    }\n",
       "\n",
       "    .dataframe thead th {\n",
       "        text-align: right;\n",
       "    }\n",
       "</style>\n",
       "<table border=\"1\" class=\"dataframe\">\n",
       "  <thead>\n",
       "    <tr style=\"text-align: right;\">\n",
       "      <th></th>\n",
       "      <th>chromosome</th>\n",
       "      <th>start</th>\n",
       "      <th>end</th>\n",
       "      <th>transcript_id</th>\n",
       "      <th>start_codon</th>\n",
       "      <th>strand</th>\n",
       "    </tr>\n",
       "  </thead>\n",
       "  <tbody>\n",
       "    <tr>\n",
       "      <th>0</th>\n",
       "      <td>chr1</td>\n",
       "      <td>3740774</td>\n",
       "      <td>3741721</td>\n",
       "      <td>ENSMUST00000070533.5</td>\n",
       "      <td>3741568</td>\n",
       "      <td>-</td>\n",
       "    </tr>\n",
       "    <tr>\n",
       "      <th>1</th>\n",
       "      <td>chr1</td>\n",
       "      <td>4422424</td>\n",
       "      <td>4423060</td>\n",
       "      <td>ENSMUST00000027032.6</td>\n",
       "      <td>4423045</td>\n",
       "      <td>-</td>\n",
       "    </tr>\n",
       "    <tr>\n",
       "      <th>2</th>\n",
       "      <td>chr1</td>\n",
       "      <td>4563322</td>\n",
       "      <td>4563689</td>\n",
       "      <td>ENSMUST00000027035.10</td>\n",
       "      <td>4563626</td>\n",
       "      <td>-</td>\n",
       "    </tr>\n",
       "    <tr>\n",
       "      <th>3</th>\n",
       "      <td>chr1</td>\n",
       "      <td>4563322</td>\n",
       "      <td>4563713</td>\n",
       "      <td>ENSMUST00000116652.8</td>\n",
       "      <td>4563626</td>\n",
       "      <td>-</td>\n",
       "    </tr>\n",
       "    <tr>\n",
       "      <th>4</th>\n",
       "      <td>chr1</td>\n",
       "      <td>4563322</td>\n",
       "      <td>4563958</td>\n",
       "      <td>ENSMUST00000191939.2</td>\n",
       "      <td>4563626</td>\n",
       "      <td>-</td>\n",
       "    </tr>\n",
       "  </tbody>\n",
       "</table>\n",
       "</div>"
      ],
      "text/plain": [
       "  chromosome    start      end          transcript_id  start_codon strand\n",
       "0       chr1  3740774  3741721   ENSMUST00000070533.5      3741568      -\n",
       "1       chr1  4422424  4423060   ENSMUST00000027032.6      4423045      -\n",
       "2       chr1  4563322  4563689  ENSMUST00000027035.10      4563626      -\n",
       "3       chr1  4563322  4563713   ENSMUST00000116652.8      4563626      -\n",
       "4       chr1  4563322  4563958   ENSMUST00000191939.2      4563626      -"
      ]
     },
     "execution_count": 8,
     "metadata": {},
     "output_type": "execute_result"
    }
   ],
   "source": [
    "%cd ../binfo1-own-analysis/\n",
    "bed = pd.read_csv('gencode-exons-containing-startcodon.bed', sep='\\t', header=None)\n",
    "bed.columns = ['chromosome', 'start', 'end', 'transcript_id', 'start_codon', 'strand']\n",
    "bed.head()"
   ]
  },
  {
   "cell_type": "code",
   "execution_count": null,
   "id": "13617456",
   "metadata": {},
   "outputs": [
    {
     "data": {
      "application/vnd.microsoft.datawrangler.viewer.v0+json": {
       "columns": [
        {
         "name": "index",
         "rawType": "int64",
         "type": "integer"
        },
        {
         "name": "chromosome_x",
         "rawType": "object",
         "type": "string"
        },
        {
         "name": "start_x",
         "rawType": "int64",
         "type": "integer"
        },
        {
         "name": "end_x",
         "rawType": "int64",
         "type": "integer"
        },
        {
         "name": "transcript_id",
         "rawType": "object",
         "type": "string"
        },
        {
         "name": "start_codon",
         "rawType": "int64",
         "type": "integer"
        },
        {
         "name": "strand_x",
         "rawType": "object",
         "type": "string"
        },
        {
         "name": "chromosome_y",
         "rawType": "object",
         "type": "unknown"
        },
        {
         "name": "program",
         "rawType": "object",
         "type": "unknown"
        },
        {
         "name": "type",
         "rawType": "object",
         "type": "unknown"
        },
        {
         "name": "start_y",
         "rawType": "float64",
         "type": "float"
        },
        {
         "name": "end_y",
         "rawType": "float64",
         "type": "float"
        },
        {
         "name": "unnamed1",
         "rawType": "float64",
         "type": "float"
        },
        {
         "name": "strand_y",
         "rawType": "object",
         "type": "unknown"
        },
        {
         "name": "unnamed2",
         "rawType": "object",
         "type": "unknown"
        },
        {
         "name": "info",
         "rawType": "object",
         "type": "unknown"
        },
        {
         "name": "TPM",
         "rawType": "float64",
         "type": "float"
        }
       ],
       "ref": "95997a02-ab4c-45b7-aded-bd0d049590ed",
       "rows": [
        [
         "11",
         "chr1",
         "4878045",
         "4878205",
         "ENSMUST00000027036.11",
         "4878136",
         "+",
         "chr1",
         "StringTie",
         "transcript",
         "4878046.0",
         "4916962.0",
         "1000.0",
         "+",
         ".",
         "gene_id \"STRG.28\"; transcript_id \"STRG.28.1\"; reference_id \"ENSMUST00000027036.11\"; ref_gene_id \"ENSMUSG00000025903.15\"; ref_gene_name \"Lypla1\"; cov \"28.029417\"; FPKM \"44.387794\"; TPM \"58.482693\";",
         "58.482693"
        ],
        [
         "13",
         "chr1",
         "4928036",
         "4928199",
         "ENSMUST00000081551.14",
         "4928136",
         "+",
         "chr1",
         "StringTie",
         "transcript",
         "4928037.0",
         "4968128.0",
         "1000.0",
         "+",
         ".",
         "gene_id \"STRG.29\"; transcript_id \"STRG.29.1\"; reference_id \"ENSMUST00000081551.14\"; ref_gene_id \"ENSMUSG00000033813.16\"; ref_gene_name \"Tcea1\"; cov \"61.521484\"; FPKM \"97.426323\"; TPM \"128.363068\";",
         "128.363068"
        ],
        [
         "15",
         "chr1",
         "5154639",
         "5154786",
         "ENSMUST00000044369.13",
         "5154673",
         "+",
         null,
         null,
         null,
         null,
         null,
         null,
         null,
         null,
         null,
         "0.0"
        ],
        [
         "16",
         "chr1",
         "5659227",
         "5659528",
         "ENSMUST00000027038.11",
         "5659271",
         "+",
         null,
         null,
         null,
         null,
         null,
         null,
         null,
         null,
         null,
         "0.0"
        ],
        [
         "18",
         "chr1",
         "6300182",
         "6300297",
         "ENSMUST00000027040.13",
         "6300226",
         "+",
         null,
         null,
         null,
         null,
         null,
         null,
         null,
         null,
         null,
         "0.0"
        ]
       ],
       "shape": {
        "columns": 16,
        "rows": 5
       }
      },
      "text/html": [
       "<div>\n",
       "<style scoped>\n",
       "    .dataframe tbody tr th:only-of-type {\n",
       "        vertical-align: middle;\n",
       "    }\n",
       "\n",
       "    .dataframe tbody tr th {\n",
       "        vertical-align: top;\n",
       "    }\n",
       "\n",
       "    .dataframe thead th {\n",
       "        text-align: right;\n",
       "    }\n",
       "</style>\n",
       "<table border=\"1\" class=\"dataframe\">\n",
       "  <thead>\n",
       "    <tr style=\"text-align: right;\">\n",
       "      <th></th>\n",
       "      <th>chromosome_x</th>\n",
       "      <th>start_x</th>\n",
       "      <th>end_x</th>\n",
       "      <th>transcript_id</th>\n",
       "      <th>start_codon</th>\n",
       "      <th>strand_x</th>\n",
       "      <th>chromosome_y</th>\n",
       "      <th>program</th>\n",
       "      <th>type</th>\n",
       "      <th>start_y</th>\n",
       "      <th>end_y</th>\n",
       "      <th>unnamed1</th>\n",
       "      <th>strand_y</th>\n",
       "      <th>unnamed2</th>\n",
       "      <th>info</th>\n",
       "      <th>TPM</th>\n",
       "    </tr>\n",
       "  </thead>\n",
       "  <tbody>\n",
       "    <tr>\n",
       "      <th>11</th>\n",
       "      <td>chr1</td>\n",
       "      <td>4878045</td>\n",
       "      <td>4878205</td>\n",
       "      <td>ENSMUST00000027036.11</td>\n",
       "      <td>4878136</td>\n",
       "      <td>+</td>\n",
       "      <td>chr1</td>\n",
       "      <td>StringTie</td>\n",
       "      <td>transcript</td>\n",
       "      <td>4878046.0</td>\n",
       "      <td>4916962.0</td>\n",
       "      <td>1000.0</td>\n",
       "      <td>+</td>\n",
       "      <td>.</td>\n",
       "      <td>gene_id \"STRG.28\"; transcript_id \"STRG.28.1\"; ...</td>\n",
       "      <td>58.482693</td>\n",
       "    </tr>\n",
       "    <tr>\n",
       "      <th>13</th>\n",
       "      <td>chr1</td>\n",
       "      <td>4928036</td>\n",
       "      <td>4928199</td>\n",
       "      <td>ENSMUST00000081551.14</td>\n",
       "      <td>4928136</td>\n",
       "      <td>+</td>\n",
       "      <td>chr1</td>\n",
       "      <td>StringTie</td>\n",
       "      <td>transcript</td>\n",
       "      <td>4928037.0</td>\n",
       "      <td>4968128.0</td>\n",
       "      <td>1000.0</td>\n",
       "      <td>+</td>\n",
       "      <td>.</td>\n",
       "      <td>gene_id \"STRG.29\"; transcript_id \"STRG.29.1\"; ...</td>\n",
       "      <td>128.363068</td>\n",
       "    </tr>\n",
       "    <tr>\n",
       "      <th>15</th>\n",
       "      <td>chr1</td>\n",
       "      <td>5154639</td>\n",
       "      <td>5154786</td>\n",
       "      <td>ENSMUST00000044369.13</td>\n",
       "      <td>5154673</td>\n",
       "      <td>+</td>\n",
       "      <td>NaN</td>\n",
       "      <td>NaN</td>\n",
       "      <td>NaN</td>\n",
       "      <td>NaN</td>\n",
       "      <td>NaN</td>\n",
       "      <td>NaN</td>\n",
       "      <td>NaN</td>\n",
       "      <td>NaN</td>\n",
       "      <td>NaN</td>\n",
       "      <td>0.000000</td>\n",
       "    </tr>\n",
       "    <tr>\n",
       "      <th>16</th>\n",
       "      <td>chr1</td>\n",
       "      <td>5659227</td>\n",
       "      <td>5659528</td>\n",
       "      <td>ENSMUST00000027038.11</td>\n",
       "      <td>5659271</td>\n",
       "      <td>+</td>\n",
       "      <td>NaN</td>\n",
       "      <td>NaN</td>\n",
       "      <td>NaN</td>\n",
       "      <td>NaN</td>\n",
       "      <td>NaN</td>\n",
       "      <td>NaN</td>\n",
       "      <td>NaN</td>\n",
       "      <td>NaN</td>\n",
       "      <td>NaN</td>\n",
       "      <td>0.000000</td>\n",
       "    </tr>\n",
       "    <tr>\n",
       "      <th>18</th>\n",
       "      <td>chr1</td>\n",
       "      <td>6300182</td>\n",
       "      <td>6300297</td>\n",
       "      <td>ENSMUST00000027040.13</td>\n",
       "      <td>6300226</td>\n",
       "      <td>+</td>\n",
       "      <td>NaN</td>\n",
       "      <td>NaN</td>\n",
       "      <td>NaN</td>\n",
       "      <td>NaN</td>\n",
       "      <td>NaN</td>\n",
       "      <td>NaN</td>\n",
       "      <td>NaN</td>\n",
       "      <td>NaN</td>\n",
       "      <td>NaN</td>\n",
       "      <td>0.000000</td>\n",
       "    </tr>\n",
       "  </tbody>\n",
       "</table>\n",
       "</div>"
      ],
      "text/plain": [
       "   chromosome_x  start_x    end_x          transcript_id  start_codon  \\\n",
       "11         chr1  4878045  4878205  ENSMUST00000027036.11      4878136   \n",
       "13         chr1  4928036  4928199  ENSMUST00000081551.14      4928136   \n",
       "15         chr1  5154639  5154786  ENSMUST00000044369.13      5154673   \n",
       "16         chr1  5659227  5659528  ENSMUST00000027038.11      5659271   \n",
       "18         chr1  6300182  6300297  ENSMUST00000027040.13      6300226   \n",
       "\n",
       "   strand_x chromosome_y    program        type    start_y      end_y  \\\n",
       "11        +         chr1  StringTie  transcript  4878046.0  4916962.0   \n",
       "13        +         chr1  StringTie  transcript  4928037.0  4968128.0   \n",
       "15        +          NaN        NaN         NaN        NaN        NaN   \n",
       "16        +          NaN        NaN         NaN        NaN        NaN   \n",
       "18        +          NaN        NaN         NaN        NaN        NaN   \n",
       "\n",
       "    unnamed1 strand_y unnamed2  \\\n",
       "11    1000.0        +        .   \n",
       "13    1000.0        +        .   \n",
       "15       NaN      NaN      NaN   \n",
       "16       NaN      NaN      NaN   \n",
       "18       NaN      NaN      NaN   \n",
       "\n",
       "                                                 info         TPM  \n",
       "11  gene_id \"STRG.28\"; transcript_id \"STRG.28.1\"; ...   58.482693  \n",
       "13  gene_id \"STRG.29\"; transcript_id \"STRG.29.1\"; ...  128.363068  \n",
       "15                                                NaN    0.000000  \n",
       "16                                                NaN    0.000000  \n",
       "18                                                NaN    0.000000  "
      ]
     },
     "execution_count": 13,
     "metadata": {},
     "output_type": "execute_result"
    }
   ],
   "source": [
    "merged_df = pd.merge(bed, df, on='transcript_id', how='left')\n",
    "merged_df['TPM'] = merged_df['TPM'].fillna(0)\n",
    "idx = merged_df.groupby(['chromosome_x', 'strand_x', 'start_codon'])['TPM'].idxmax()\n",
    "principal_exons_df = merged_df.loc[idx]\n",
    "principal_exons_df.head()"
   ]
  },
  {
   "cell_type": "code",
   "execution_count": 14,
   "id": "3ff442d7",
   "metadata": {},
   "outputs": [],
   "source": [
    "bedout = principal_exons_df[['chromosome_x', 'start_x', 'end_x', 'transcript_id', 'start_codon', 'strand_x']]\n",
    "bedout.columns = ['chromosome', 'start', 'end', 'transcript_id', 'start_codon', 'strand']\n",
    "bedout.to_csv('gencode-principal-exons-containing-startcodon.bed', sep='\\t', header=False, index=False)"
   ]
  },
  {
   "cell_type": "code",
   "execution_count": null,
   "id": "a12dacc7",
   "metadata": {},
   "outputs": [],
   "source": [
    "# Generate new bam file with only mapped reads\n",
    "!(samtools view -H ../binfo1-datapack1/RPF-siLuc.bam; samtools view -F 4 ../binfo1-datapack1/RPF-siLuc.bam | bioawk -c sam '{ if (length($seq) >= 25) print $0; }') | samtools view -b -o  RPF-siLuc-filtered.bam\n",
    "!(samtools view -H ../binfo1-datapack1/RPF-siLin28a.bam; samtools view -F 4 ../binfo1-datapack1/RPF-siLin28a.bam | bioawk -c sam '{ if (length($seq) >= 25) print $0; }') | samtools view -b -o  RPF-siLin28a-filtered.bam\n",
    "!samtools index RPF-siLuc-filtered.bam\n",
    "!samtools index RPF-siLin28a-filtered.bam"
   ]
  },
  {
   "cell_type": "code",
   "execution_count": 2,
   "id": "81f0c0bd",
   "metadata": {},
   "outputs": [],
   "source": [
    "# Get 5' ends of +/- strand reads\n",
    "!bedtools genomecov -ibam RPF-siLuc-filtered.bam -bg -5 -strand + > fivepcnt-RPF-siLuc.plus.bed\n",
    "!bedtools genomecov -ibam RPF-siLuc-filtered.bam -bg -5 -strand - > fivepcnt-RPF-siLuc.minus.bed"
   ]
  },
  {
   "cell_type": "code",
   "execution_count": 3,
   "id": "33db71f5",
   "metadata": {},
   "outputs": [],
   "source": [
    "!bedtools genomecov -ibam RPF-siLin28a-filtered.bam -bg -5 -strand + > fivepcnt-RPF-siLin28a.plus.bed\n",
    "!bedtools genomecov -ibam RPF-siLin28a-filtered.bam -bg -5 -strand - > fivepcnt-RPF-siLin28a.minus.bed"
   ]
  },
  {
   "cell_type": "code",
   "execution_count": 16,
   "id": "c58c009f",
   "metadata": {},
   "outputs": [],
   "source": [
    "!bedtools intersect -a fivepcnt-RPF-siLuc.plus.bed -b gencode-principal-exons-containing-startcodon.bed -wa -wb -nonamecheck > fivepcnt-RPF-siLuc.plus.txt\n",
    "!bedtools intersect -a fivepcnt-RPF-siLuc.minus.bed -b gencode-principal-exons-containing-startcodon.bed -wa -wb -nonamecheck > fivepcnt-RPF-siLuc.minus.txt"
   ]
  },
  {
   "cell_type": "code",
   "execution_count": 15,
   "id": "66cdbeb4",
   "metadata": {},
   "outputs": [],
   "source": [
    "!bedtools intersect -a fivepcnt-RPF-siLin28a.plus.bed -b gencode-principal-exons-containing-startcodon.bed -wa -wb -nonamecheck > fivepcnt-RPF-siLin28a.plus.txt\n",
    "!bedtools intersect -a fivepcnt-RPF-siLin28a.minus.bed -b gencode-principal-exons-containing-startcodon.bed -wa -wb -nonamecheck > fivepcnt-RPF-siLin28a.minus.txt"
   ]
  },
  {
   "cell_type": "code",
   "execution_count": null,
   "id": "d96f22ed",
   "metadata": {},
   "outputs": [],
   "source": [
    "# TODO: determine P-site offset w.r.t. read length\n",
    "\n",
    "import pysam\n",
    "bamfile = pysam.AlignmentFile(\"RPF-siLuc-filtered.bam\", \"rb\")\n",
    "\n",
    "# 1. 개시 코돈 BED 파일을 한 줄씩 읽습니다.\n",
    "for line in open(\"gencode-longest-exons-containing-startcodon.bed\"):\n",
    "    chrom, exon_start, exon_end, name, start_codon_pos, strand = line.strip().split('\\t')\n",
    "\n",
    "# 2. 해당 개시 코돈 주변의 Ribo-seq 리드를 BAM 파일에서 추출합니다.\n",
    "    for read in bamfile.fetch(chrom, int(start_codon_pos) - 50, int(start_codon_pos) + 50):\n",
    "\n",
    "# 3. 리드의 5' 말단 위치와 개시 코돈 위치 사이의 거리를 계산하여 저장합니다.\n",
    "        read_5_end = read.reference_start if strand == '+' else read.reference_end\n",
    "        distance = read_5_end - int(start_codon_pos)\n",
    "        # 이 distance 값을 리드 길이(read.query_length)와 함께 저장\n",
    "        print(f\"{distance}\\t{read.query_length}\")"
   ]
  },
  {
   "cell_type": "code",
   "execution_count": null,
   "id": "8293f979",
   "metadata": {},
   "outputs": [],
   "source": []
  }
 ],
 "metadata": {
  "kernelspec": {
   "display_name": "lab",
   "language": "python",
   "name": "python3"
  },
  "language_info": {
   "codemirror_mode": {
    "name": "ipython",
    "version": 3
   },
   "file_extension": ".py",
   "mimetype": "text/x-python",
   "name": "python",
   "nbconvert_exporter": "python",
   "pygments_lexer": "ipython3",
   "version": "3.12.10"
  }
 },
 "nbformat": 4,
 "nbformat_minor": 5
}
