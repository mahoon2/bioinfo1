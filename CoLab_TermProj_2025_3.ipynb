{
  "cells": [
    {
      "cell_type": "markdown",
      "metadata": {
        "id": "qSmNiRknPfSy"
      },
      "source": [
        "# 생물정보학 및 실습 1 - Term Project용 Mission 3 환경 셋업\n",
        "\n",
        "```\n",
        "생물정보학 및 실습 1\n",
        "서울대학교 생물정보학전공/생명과학부 2025년 1학기\n",
        "\n",
        "이 노트북은 Creative Commons BY-SA 조건으로 재사용 가능합니다.\n",
        "장혜식 <hyeshik@snu.ac.kr>, 서울대학교 생명과학부\n",
        "```\n",
        "\n",
        "이 노트북은 Google Colab을 이용해서 Term Project를 할 수 있도록 환경을 준비해 줍니다. 터미널 사용이 원활하지 않은 상태이고, 데이터를 오랫동안 보관하기 어렵기 때문에 되도록 개인용 컴퓨터에서 [Anaconda](https://www.anaconda.com/)나 [JupyterLab](https://jupyterlab.readthedocs.io/en/stable/) 등을 설치하고 사용하시는 것이 편하지만, 개인용 컴퓨터 사양이 부족한 경우에는 Google CoLab을 사용할 수도 있습니다. 개인용 컴퓨터를 쓸 때는 Windows에서는 [WSL2](https://docs.microsoft.com/en-us/windows/wsl/install-win10)를 쓰시면 리눅스 커맨드라인 환경을 쓸 수 있습니다. Google Colab은 창을 닫은 후 90분 후, 또는 창을 처음 열고 12시간 후에 환경을 닫아버리기 때문에 매번 실습할 때마다 새로 셋업이 필요합니다. `Runtime->Run All`을 실행해서 전체를 한 번 실행하시면 준비됩니다. 모든 것이 잘 안 되고 뭔가 꼬인 느낌이 강하게 들 때는 `Runtime->Factory reset runtime`을 누르고 새로 시작하시면 될 수도 있습니다.\n"
      ]
    },
    {
      "cell_type": "markdown",
      "metadata": {
        "id": "ojAx9SdvPfSz"
      },
      "source": [
        "## Google Drive 마운트\n",
        "\n",
        "데이터 파일들을 불러오고 저장하기 위해서 Google Drive를 연결합니다. **이번엔 스크립트 파일을 편집해야 하기 때문에 Google Drive 마운트를 하지 않으면 vim등 콘솔에서 쓸 수 있는 에디터를 쓰셔야 합니다.** 화면에 나오는 주소를 눌러서 인증하고 인증 코드를 그 아래에 입력하세요. 그러면 `/contents/drive/MyDrive`에서 자신의 Drive 최상단 폴더가 보입니다. Google CoLab에서 접속하지 않고, 본인 컴퓨터 또는 연구실 워크스테이션 등 다른 컴퓨터를 쓰시는 경우에는 저장공간이 충분하므로 이 부분은 생략하고 지나갑니다."
      ]
    },
    {
      "cell_type": "code",
      "execution_count": null,
      "metadata": {
        "id": "SbkVVS-CPfSz"
      },
      "outputs": [],
      "source": [
        "from google.colab import drive\n",
        "drive.mount('/content/drive')"
      ]
    },
    {
      "cell_type": "markdown",
      "metadata": {
        "id": "BjtCUaGSPfSz"
      },
      "source": [
        "## 실습용 Bioconda 환경 설치하기\n",
        "Google CoLab에서 접속하지 않고, 본인 컴퓨터 또는 연구실 워크스테이션 등 다른 컴퓨터를 쓰시는 경우에는 따로 실습용 [Bioconda](https://bioconda.github.io/) 환경을 구축해서 이 노트북을 그 환경 안에서 띄우시면 됩니다.\n",
        "\n",
        "CoLab을 쓰시는 분들은 다음에 따라서 실습용 프로그램들을 쉽게 설치할 수 있도록 [Bioconda](https://bioconda.github.io/) 환경을 만듭니다. 실행하고 진행상황을 관찰하다가 에러로 보이는 것이 있으면 잘 읽어보고 해결합니다.\n",
        "\n",
        "파이썬 모듈들은 Colab쪽의 파이썬 인터프리터를 바꿀 수 없기 때문에 Conda에 설치하더라도 사용하기 어렵습니다. 파이썬 모듈은 `pip` 명령어로 설치하시면 Colab에서 불러와서 사용할 수 있습니다.\n",
        "\n",
        "환경 초기화에 관련된 스크립트는 [GitHub 프로젝트](https://github.com/hyeshik/colab-biolab)에 있습니다."
      ]
    },
    {
      "cell_type": "code",
      "execution_count": null,
      "metadata": {
        "id": "g-vfGi3ePfSz"
      },
      "outputs": [],
      "source": [
        "!git clone https://github.com/hyeshik/colab-biolab.git\n",
        "!cd colab-biolab && bash tools/setup.sh\n",
        "exec(open('colab-biolab/tools/activate_conda.py').read())"
      ]
    },
    {
      "cell_type": "markdown",
      "metadata": {
        "id": "8A1Qq4AcPfS0"
      },
      "source": [
        "설정이 끝났으면, 이제 콘솔을 열어서 터미널로 접속할 수 있는 통로를 열어줍니다."
      ]
    },
    {
      "cell_type": "markdown",
      "metadata": {
        "id": "etOQJdMTPfS0"
      },
      "source": [
        "## 시퀀싱 데이터 다운로드\n",
        "***첫 실습 시간에 데이터 복사를 마쳤으면 이 부분은 생략하고 지나갑니다.***\n",
        "\n",
        "이제 실습 수업에서 필요한 시퀀싱 데이터를 다운로드 받아서 설치합시다. 드라이브 공간만 충분하면 데이터는 계속 저장돼 있기 때문에 학기 전체를 통해서 딱 한 번만 하시면 됩니다. Colab에서는 작업용 데이터를 Google Drive 폴더 아래의 `binfo-datapack1`에 저장합니다. 실습용 데이터는 `/content/drive/MyDrive/binfo1-datapack1`에 풀리게 됩니다.\n",
        "\n",
        "### (Option 1) Google CoLab에서 접속한 경우\n",
        "1. [Google Drive 공유폴더](https://drive.google.com/drive/folders/1QBJednh-C7A17PFOlpZHBKyDmBvd6klh?usp=sharing)에 접속합니다.\n",
        "1. 중간 제목줄의 \"binfo1-datapack1 ▾\"에서 ▾을 누릅니다.\n",
        "1. Add shortcut to Drive를 누릅니다.\n",
        "1. My Drive를 선택해서 ADD SHORTCUT 버튼을 누릅니다.\n",
        "1. 다음 cell을 실행해서 링크가 제대로 들어왔는지 확인합니다. (바로 확인되지 않으면 3–5분 정도 기다렸다가 하면 됩니다.)\n",
        "1. 제대로 확인되면 다음으로 넘어갑니다.\n"
      ]
    },
    {
      "cell_type": "code",
      "execution_count": null,
      "metadata": {
        "id": "D24wKYriG8tI"
      },
      "outputs": [],
      "source": [
        "!ls -al /content/drive/MyDrive/binfo1-datapack1/"
      ]
    },
    {
      "cell_type": "markdown",
      "metadata": {
        "id": "OZ0KkKrmG-M4"
      },
      "source": [
        "### (Option 2) CoLab외의 다른 환경에서 접속한 경우\n",
        "본인 컴퓨터나 연구실 워크스테이션 등에서 작업하는 경우에는 다음 명령어로 다운로드 받으시면 됩니다. 첫 번째에는 wget이 접속오류를 내는 경우가 많으니, 접속에러가 발생하면 다시 한 번 실행해 보세요. `/content/drive/Mydrive` 부분은 원하는 저장 경로로 바꿔서 지정하시면 됩니다."
      ]
    },
    {
      "cell_type": "code",
      "execution_count": null,
      "metadata": {
        "id": "rgT10jUOPfS0"
      },
      "outputs": [],
      "source": [
        "!wget -O - --no-check-certificate https://hyeshik.qbio.io/binfo/binfo1-datapack1.tar | tar -C /content/drive/MyDrive -xf -"
      ]
    },
    {
      "cell_type": "markdown",
      "metadata": {
        "id": "BnS18ErRPfS2"
      },
      "source": [
        "### 파일 체크섬 확인\n",
        "***첫 실습 시간에 데이터 복사를 마쳤으면 이 부분은 생략하고 지나갑니다.***\n",
        "\n",
        "받은 데이터의 MD5 체크섬을 확인합니다. 한참 걸립니다. 각 파일들의 원래 체크섬은 다음과 같습니다. 한 번 비교해 보세요.\n",
        "\n",
        "```\n",
        "140aaf30bcb9276cc716f8699f04ddd6  CLIP-35L33G.bam\n",
        "f1b3336ed7e2f97d562dcc71641251bd  CLIP-35L33G.bam.bai\n",
        "328883a73d507eafbf5b60bd6b906201  RNA-control.bam\n",
        "02073818e2f398a73c3b76e5169de1ca  RNA-control.bam.bai\n",
        "b09550d09d6c2a4ce27f0226f426fdb1  RNA-siLin28a.bam\n",
        "fef112c727244060ea62d3f2564a07f6  RNA-siLin28a.bam.bai\n",
        "28bbd0c47d725669340c784f1b772c01  RNA-siLuc.bam\n",
        "43590fdc4d81905c0432e0d1cb8cfd5b  RNA-siLuc.bam.bai\n",
        "5c08a9297307bc83259e658c4474f0cc  RPF-siLin28a.bam\n",
        "a1bb3e29be412dfd7fd8d16b1b1acc4c  RPF-siLin28a.bam.bai\n",
        "f2eebf50943024d0116c9cd3e744c707  RPF-siLuc.bam\n",
        "dc24f69e8f571fc8be30f28ce5b84fcd  RPF-siLuc.bam.bai\n",
        "```"
      ]
    },
    {
      "cell_type": "code",
      "execution_count": null,
      "metadata": {
        "id": "6wOX9pzSPfS2"
      },
      "outputs": [],
      "source": [
        "!md5sum drive/MyDrive/binfo1-datapack1/*"
      ]
    },
    {
      "cell_type": "code",
      "execution_count": null,
      "metadata": {
        "id": "-TbxufDhch1f"
      },
      "outputs": [],
      "source": [
        "!ls -al drive/MyDrive/binfo*"
      ]
    },
    {
      "cell_type": "markdown",
      "metadata": {
        "id": "TYffnLRpcmSn"
      },
      "source": [
        "# 파일 복사하기\n",
        "***첫 실습 시간에 데이터 복사를 마쳤으면 이 부분은 생략하고 지나갑니다.***\n",
        "\n",
        "공유한 폴더를 나의 작업 폴더로 복사합니다."
      ]
    },
    {
      "cell_type": "code",
      "execution_count": null,
      "metadata": {
        "id": "mDgKA0xGco6G"
      },
      "outputs": [],
      "source": [
        "!mkdir -p /content/drive/MyDrive/binfo1-work\n",
        "%cd /content/drive/MyDrive/binfo1-work\n",
        "!cp ../binfo1-datapack1/* ."
      ]
    },
    {
      "cell_type": "markdown",
      "metadata": {
        "id": "ecEA1PPQUlIK"
      },
      "source": [
        "# 프로그램 설치\n",
        "**첫 실습 시간에 데이터 복사를 마쳤으면 여기부터 시작합니다.**\n",
        "\n",
        "데이터 준비가 끝났으면, 이제 이번 시간 실습에 필요한 프로그램들 몇 가지를 추가로 설치합니다."
      ]
    },
    {
      "cell_type": "code",
      "execution_count": null,
      "metadata": {
        "id": "neteyWsWEKBy"
      },
      "outputs": [],
      "source": [
        "!conda install -y bedtools bioawk samtools"
      ]
    },
    {
      "cell_type": "markdown",
      "metadata": {
        "id": "Oe_54MZrEi4y"
      },
      "source": [
        "## Mission 3\n",
        "\n",
        "이번 미션에서는 Figure S2A 아랫쪽에 표시되는 clustered error 분석 (CIMS; Crosslinking-induced mutation sites)을 합니다. 자외선에 의해서 단백질이 붙어있다가 단백질 분해효소로 단백질을 뜯어내고 남은 자리에서는 reverse-transcriptase가 오류를 자주 냅니다. 오류율을 분석해서 단백질이 앉아 있었던 자리를 분석해 봅시다.\n",
        "\n",
        "데이터는 지난 번과 동일하기 때문에 이미 다운로드 받으셨다면 다시 다운로드 받을 필요는 없습니다."
      ]
    },
    {
      "cell_type": "code",
      "execution_count": null,
      "metadata": {
        "id": "IANz6DmLUkA6"
      },
      "outputs": [],
      "source": [
        "%cd /content/drive/MyDrive/binfo1-work/"
      ]
    },
    {
      "cell_type": "markdown",
      "metadata": {
        "id": "CMMDdHgyJAB1"
      },
      "source": [
        "Genome 전체로 계산하는 방법은 자원도 꽤 쓰고 시간이 걸리기 때문에 여기서는 유전자 단위로 간략하게 하도록 합시다. 예시로 Mirlet7g를 해 보고, 추가로 Mirlet7f-1과 Mirlet7d도 봐서 비교해 봅시다.\n",
        "\n",
        "논문은 예전 레퍼런스 유전체인 mm9을 쓰고 있기 때문에, 현재 사용되는 레퍼런스 mm39와는 좌표계에 차이가 있습니다. 새로 annotation에서 위치를 찾습니다."
      ]
    },
    {
      "cell_type": "code",
      "execution_count": null,
      "metadata": {
        "id": "sumX23OcI_fl"
      },
      "outputs": [],
      "source": [
        "!grep -i mirlet7g ../binfo1-datapack1/gencode.gtf"
      ]
    },
    {
      "cell_type": "markdown",
      "metadata": {
        "id": "1FSyRKOGK9Ur"
      },
      "source": [
        "위 결과에서 gtf 파일이 없다고 나오면 압축이 풀리지 않은 상태일 수 있으니, 미리 풀어서 작업해보세요."
      ]
    },
    {
      "cell_type": "markdown",
      "metadata": {
        "id": "iB_C8P1fJkNE"
      },
      "source": [
        "Splicing 되지 않는 transcript이기 때문에 결과가 단조롭습니다. 해당 좌표 범위로 bam을 솎아냅니다."
      ]
    },
    {
      "cell_type": "code",
      "execution_count": null,
      "metadata": {
        "id": "opqsj9vNIL-z"
      },
      "outputs": [],
      "source": [
        "!samtools view -b -o CLIP-let7g.bam ../binfo1-datapack1/CLIP-35L33G.bam chr9:106056039-106056126\n",
        "!samtools view CLIP-let7g.bam | wc -l"
      ]
    },
    {
      "cell_type": "code",
      "execution_count": 2,
      "metadata": {},
      "outputs": [
        {
          "name": "stdout",
          "output_type": "stream",
          "text": [
            "zsh:1: command not found: module\n"
          ]
        }
      ],
      "source": [
        "!module load samtools"
      ]
    },
    {
      "cell_type": "code",
      "execution_count": 1,
      "metadata": {},
      "outputs": [
        {
          "name": "stdout",
          "output_type": "stream",
          "text": [
            "zsh:1: command not found: samtools\n",
            "0\n"
          ]
        }
      ],
      "source": [
        "!samtools view CLIP-let7g.bam | wc -l"
      ]
    },
    {
      "cell_type": "markdown",
      "metadata": {
        "id": "baEtdt6aJ12N"
      },
      "source": [
        "각 자리에 mapping된 read들의 분포를 요약하기 위해 samtools mpileup을 이용합니다. Shannon entropy를 구할 때는 reference를 따로 줄 필요는 없습니다. samtools를 쓰지 않고 직접 read를 분석하면 더욱 더 재미있습니다."
      ]
    },
    {
      "cell_type": "code",
      "execution_count": null,
      "metadata": {
        "id": "5_RLXcMpIL8J"
      },
      "outputs": [],
      "source": [
        "!samtools mpileup CLIP-let7g.bam > CLIP-let7g.pileup\n",
        "!wc -l CLIP-let7g.pileup"
      ]
    },
    {
      "cell_type": "markdown",
      "metadata": {
        "id": "Xuzv5lSEKVoG"
      },
      "source": [
        "Mirlet7g는 100bp도 안 되는 짧은 gene인데 `mpileup` 결과는 엄청 길게 나옵니다. 왜 그럴까요? (잘 한 번 생각해 봅시다)"
      ]
    },
    {
      "cell_type": "markdown",
      "metadata": {
        "id": "hpC-bsZEKozF"
      },
      "source": [
        "이제 Mirlet7g의 핵심부분을 살펴봐서 어떻게 하면 좋을지 견적을 내 봅니다."
      ]
    },
    {
      "cell_type": "code",
      "execution_count": null,
      "metadata": {
        "id": "1WulVeZqIL5W"
      },
      "outputs": [],
      "source": [
        "!head CLIP-let7g.pileup"
      ]
    },
    {
      "cell_type": "code",
      "execution_count": null,
      "metadata": {
        "id": "GUdB31wAIL0K"
      },
      "outputs": [],
      "source": [
        "!awk '$2 >= 106056039 && $2 <= 106056126 { print $0; }' CLIP-let7g.pileup > CLIP-let7g-gene.pileup\n",
        "!tail CLIP-let7g-gene.pileup"
      ]
    },
    {
      "cell_type": "markdown",
      "metadata": {
        "id": "CNEWC4t_MA__"
      },
      "source": [
        "이제 pandas에 불러와서 분석해 봅니다. R을 쓰시는 분들은 R로 보내서 작업하셔도 됩니다."
      ]
    },
    {
      "cell_type": "code",
      "execution_count": 25,
      "metadata": {
        "id": "PWq1ItOxILxa"
      },
      "outputs": [
        {
          "name": "stdout",
          "output_type": "stream",
          "text": [
            "[Errno 2] No such file or directory: 'binfo1-datapack1/'\n",
            "/qbio/mahoon2/bioinfo1/binfo1-datapack1\n"
          ]
        }
      ],
      "source": [
        "%cd binfo1-datapack1/\n",
        "\n",
        "import pandas as pd\n",
        "\n",
        "let7g = pd.read_csv('CLIP-let7g-gene.pileup', sep='\\t', names=['chrom', 'pos', '_ref', 'count', 'basereads', 'quals'])\n",
        "let7f1 = pd.read_csv('let7f1-gene.pileup', sep='\\t', names=['chrom', 'pos', '_ref', 'count', 'basereads', 'quals'])\n",
        "let7d = pd.read_csv('let7d-gene.pileup', sep='\\t', names=['chrom', 'pos', '_ref', 'count', 'basereads', 'quals'])"
      ]
    },
    {
      "cell_type": "markdown",
      "metadata": {
        "id": "DOM-v48vMTQ-"
      },
      "source": [
        "여기서 pileup에서 계산에 사용할 것은 match와 substitution만입니다. 나머지에 해당하는 tag들은 제거합니다.\n",
        "\n",
        "R을 쓰시는 분들은 R로 보내서 작업하셔도 됩니다."
      ]
    },
    {
      "cell_type": "code",
      "execution_count": 26,
      "metadata": {
        "id": "qm25CsvBILug"
      },
      "outputs": [],
      "source": [
        "import re\n",
        "toremove = re.compile('[<>$*#^]')\n",
        "let7g['matches'] = let7g['basereads'].apply(lambda x: toremove.sub('', x))\n",
        "let7f1['matches'] = let7f1['basereads'].apply(lambda x: toremove.sub('', x))\n",
        "let7d['matches'] = let7d['basereads'].apply(lambda x: toremove.sub('', x))"
      ]
    },
    {
      "cell_type": "code",
      "execution_count": 27,
      "metadata": {
        "id": "uXYF___MILrK"
      },
      "outputs": [
        {
          "data": {
            "text/html": [
              "<div>\n",
              "<style scoped>\n",
              "    .dataframe tbody tr th:only-of-type {\n",
              "        vertical-align: middle;\n",
              "    }\n",
              "\n",
              "    .dataframe tbody tr th {\n",
              "        vertical-align: top;\n",
              "    }\n",
              "\n",
              "    .dataframe thead th {\n",
              "        text-align: right;\n",
              "    }\n",
              "</style>\n",
              "<table border=\"1\" class=\"dataframe\">\n",
              "  <thead>\n",
              "    <tr style=\"text-align: right;\">\n",
              "      <th></th>\n",
              "      <th>chrom</th>\n",
              "      <th>pos</th>\n",
              "      <th>matches</th>\n",
              "    </tr>\n",
              "  </thead>\n",
              "  <tbody>\n",
              "    <tr>\n",
              "      <th>0</th>\n",
              "      <td>chr13</td>\n",
              "      <td>48691305</td>\n",
              "      <td>cccccccccccccccccccccccccccccccccccccccccccccc...</td>\n",
              "    </tr>\n",
              "    <tr>\n",
              "      <th>1</th>\n",
              "      <td>chr13</td>\n",
              "      <td>48691306</td>\n",
              "      <td>tttttttttttttttttttttttttttttttttttttttttttttt...</td>\n",
              "    </tr>\n",
              "    <tr>\n",
              "      <th>2</th>\n",
              "      <td>chr13</td>\n",
              "      <td>48691307</td>\n",
              "      <td>cccccccccccccccccccccccccccccccccccccccccccccc...</td>\n",
              "    </tr>\n",
              "    <tr>\n",
              "      <th>3</th>\n",
              "      <td>chr13</td>\n",
              "      <td>48691308</td>\n",
              "      <td>aaaaaaaaaaaaaaaaaaaaaaaaaaaaaaaaaaaaaaaaaaaaaa...</td>\n",
              "    </tr>\n",
              "    <tr>\n",
              "      <th>4</th>\n",
              "      <td>chr13</td>\n",
              "      <td>48691309</td>\n",
              "      <td>gggggggggggggggggggggggggggggggggggggggggggggg...</td>\n",
              "    </tr>\n",
              "    <tr>\n",
              "      <th>...</th>\n",
              "      <td>...</td>\n",
              "      <td>...</td>\n",
              "      <td>...</td>\n",
              "    </tr>\n",
              "    <tr>\n",
              "      <th>77</th>\n",
              "      <td>chr13</td>\n",
              "      <td>48691382</td>\n",
              "      <td>cccccccccccccccccccccccc</td>\n",
              "    </tr>\n",
              "    <tr>\n",
              "      <th>78</th>\n",
              "      <td>chr13</td>\n",
              "      <td>48691383</td>\n",
              "      <td>cccccccccccccccccccccccc</td>\n",
              "    </tr>\n",
              "    <tr>\n",
              "      <th>79</th>\n",
              "      <td>chr13</td>\n",
              "      <td>48691384</td>\n",
              "      <td>tttttttttttttttttttttttt</td>\n",
              "    </tr>\n",
              "    <tr>\n",
              "      <th>80</th>\n",
              "      <td>chr13</td>\n",
              "      <td>48691385</td>\n",
              "      <td>cccccccccccccccccccccccc</td>\n",
              "    </tr>\n",
              "    <tr>\n",
              "      <th>81</th>\n",
              "      <td>chr13</td>\n",
              "      <td>48691386</td>\n",
              "      <td>aaaaaaaaaaaaaaaaaaaaaaaa</td>\n",
              "    </tr>\n",
              "  </tbody>\n",
              "</table>\n",
              "<p>82 rows × 3 columns</p>\n",
              "</div>"
            ],
            "text/plain": [
              "    chrom       pos                                            matches\n",
              "0   chr13  48691305  cccccccccccccccccccccccccccccccccccccccccccccc...\n",
              "1   chr13  48691306  tttttttttttttttttttttttttttttttttttttttttttttt...\n",
              "2   chr13  48691307  cccccccccccccccccccccccccccccccccccccccccccccc...\n",
              "3   chr13  48691308  aaaaaaaaaaaaaaaaaaaaaaaaaaaaaaaaaaaaaaaaaaaaaa...\n",
              "4   chr13  48691309  gggggggggggggggggggggggggggggggggggggggggggggg...\n",
              "..    ...       ...                                                ...\n",
              "77  chr13  48691382                           cccccccccccccccccccccccc\n",
              "78  chr13  48691383                           cccccccccccccccccccccccc\n",
              "79  chr13  48691384                           tttttttttttttttttttttttt\n",
              "80  chr13  48691385                           cccccccccccccccccccccccc\n",
              "81  chr13  48691386                           aaaaaaaaaaaaaaaaaaaaaaaa\n",
              "\n",
              "[82 rows x 3 columns]"
            ]
          },
          "execution_count": 27,
          "metadata": {},
          "output_type": "execute_result"
        }
      ],
      "source": [
        "let7f1[['chrom', 'pos', 'matches']]"
      ]
    },
    {
      "cell_type": "markdown",
      "metadata": {
        "id": "vx_LUBFuLR6-"
      },
      "source": [
        "처리하는 도중에 matches에서 뜻밖의 예외상황이 있을 수 있습니다.\n",
        "예외상황 중 결과에 영향을 미치지 않는 패턴은 미리 제거하고 처리하면 편리합니다."
      ]
    },
    {
      "cell_type": "markdown",
      "metadata": {
        "id": "NrgJiS2iRhIn"
      },
      "source": [
        "자 이제 데이터 준비가 대충 끝났습니다. 다음 순서로 진행해 보세요. (1-4번 단계는 R을 쓰시는 분들은 R로 보내서 작업하셔도 됩니다.)\n",
        "\n",
        "1. 각 position별로 base수를 셉니다.\n",
        "1. 각 position별로 Shannon entropy를 계산합니다.\n",
        "1. 계산한 Shannon entropy를 [bedgraph format](https://genome.ucsc.edu/goldenPath/help/bedgraph.html)으로 출력합니다. 말은 복잡해도 실제로는 간단합니다. 4칸짜리를 만드시면 됩니다.\n",
        "1. 결과 파일을 본인의 Google Drive에서 가져옵니다.\n",
        "1. [UCSC Genome Browser](http://genome.ucsc.edu/cgi-bin/hgTracks?db=mm39&lastVirtModeType=default&lastVirtModeExtraState=&virtModeType=default&virtMode=0&nonVirtPosition=&position=chr9%3A106056039-106056126)에 접속해서 Genome은 mm39로 선택합니다.\n",
        "1. 그래프 아랫쪽의 add custom tracks 버튼을 누릅니다.\n",
        "1. Paste URLs or data 옆의 Choose File 버튼을 누르고 우리가 만든 bedgraph 파일을 업로드 합니다.\n",
        "1. 그리고 이리 저리 감상해 보다가 View 메뉴의 PDF/PS 를 눌러서 인증샷을 한 번 찍습니다.\n",
        "1. Mirlet7d와 Mirlet7f-1도 한 번 해 봅니다."
      ]
    },
    {
      "cell_type": "code",
      "execution_count": null,
      "metadata": {
        "id": "_onzef2-Mr9_"
      },
      "outputs": [],
      "source": [
        "# 분석에 사용한 코드와 결과로 얻은 그림 (인증샷) 모두 GitHub repository에 업로드 해 주세요."
      ]
    },
    {
      "cell_type": "code",
      "execution_count": 28,
      "metadata": {},
      "outputs": [],
      "source": [
        "let7g['basecnt'] = let7g['matches'].apply(lambda x: len(x))\n",
        "let7f1['basecnt'] = let7f1['matches'].apply(lambda x: len(x))\n",
        "let7d['basecnt'] = let7d['matches'].apply(lambda x: len(x))"
      ]
    },
    {
      "cell_type": "code",
      "execution_count": 29,
      "metadata": {},
      "outputs": [],
      "source": [
        "bases = ['A', 'C', 'G', 'T']\n",
        "for df in [let7g, let7f1, let7d]:\n",
        "    for base in bases:\n",
        "        df[base] = df['matches'].apply(lambda x: x.count(base))\n",
        "        df[base + '_ratio'] = df[base] / df['basecnt']\n",
        "        df[base + '_ratio'] = df[base + '_ratio'].fillna(0)\n",
        "        df[base + '_ratio'] = df[base + '_ratio'].round(3)"
      ]
    },
    {
      "cell_type": "code",
      "execution_count": 30,
      "metadata": {},
      "outputs": [
        {
          "data": {
            "text/html": [
              "<div>\n",
              "<style scoped>\n",
              "    .dataframe tbody tr th:only-of-type {\n",
              "        vertical-align: middle;\n",
              "    }\n",
              "\n",
              "    .dataframe tbody tr th {\n",
              "        vertical-align: top;\n",
              "    }\n",
              "\n",
              "    .dataframe thead th {\n",
              "        text-align: right;\n",
              "    }\n",
              "</style>\n",
              "<table border=\"1\" class=\"dataframe\">\n",
              "  <thead>\n",
              "    <tr style=\"text-align: right;\">\n",
              "      <th></th>\n",
              "      <th>chrom</th>\n",
              "      <th>pos</th>\n",
              "      <th>_ref</th>\n",
              "      <th>count</th>\n",
              "      <th>basereads</th>\n",
              "      <th>quals</th>\n",
              "      <th>matches</th>\n",
              "      <th>basecnt</th>\n",
              "      <th>A</th>\n",
              "      <th>A_ratio</th>\n",
              "      <th>C</th>\n",
              "      <th>C_ratio</th>\n",
              "      <th>G</th>\n",
              "      <th>G_ratio</th>\n",
              "      <th>T</th>\n",
              "      <th>T_ratio</th>\n",
              "      <th>shannon</th>\n",
              "    </tr>\n",
              "  </thead>\n",
              "  <tbody>\n",
              "    <tr>\n",
              "      <th>77</th>\n",
              "      <td>chr13</td>\n",
              "      <td>48691382</td>\n",
              "      <td>N</td>\n",
              "      <td>24</td>\n",
              "      <td>cccccccccccccccccccccccc</td>\n",
              "      <td>?IEGIHGG?GEGEBI=GIIDEIGG</td>\n",
              "      <td>cccccccccccccccccccccccc</td>\n",
              "      <td>24</td>\n",
              "      <td>0</td>\n",
              "      <td>0.0</td>\n",
              "      <td>0</td>\n",
              "      <td>0.0</td>\n",
              "      <td>0</td>\n",
              "      <td>0.0</td>\n",
              "      <td>0</td>\n",
              "      <td>0.0</td>\n",
              "      <td>0.0</td>\n",
              "    </tr>\n",
              "    <tr>\n",
              "      <th>78</th>\n",
              "      <td>chr13</td>\n",
              "      <td>48691383</td>\n",
              "      <td>N</td>\n",
              "      <td>24</td>\n",
              "      <td>cccccccccccccccccccccccc</td>\n",
              "      <td>EIGGIGGGAGFGFGI=GIIDGIGG</td>\n",
              "      <td>cccccccccccccccccccccccc</td>\n",
              "      <td>24</td>\n",
              "      <td>0</td>\n",
              "      <td>0.0</td>\n",
              "      <td>0</td>\n",
              "      <td>0.0</td>\n",
              "      <td>0</td>\n",
              "      <td>0.0</td>\n",
              "      <td>0</td>\n",
              "      <td>0.0</td>\n",
              "      <td>0.0</td>\n",
              "    </tr>\n",
              "    <tr>\n",
              "      <th>79</th>\n",
              "      <td>chr13</td>\n",
              "      <td>48691384</td>\n",
              "      <td>N</td>\n",
              "      <td>24</td>\n",
              "      <td>tttttttttttttttttttttttt</td>\n",
              "      <td>&lt;IGGIHGG&gt;GEGBGI8GII@GIGG</td>\n",
              "      <td>tttttttttttttttttttttttt</td>\n",
              "      <td>24</td>\n",
              "      <td>0</td>\n",
              "      <td>0.0</td>\n",
              "      <td>0</td>\n",
              "      <td>0.0</td>\n",
              "      <td>0</td>\n",
              "      <td>0.0</td>\n",
              "      <td>0</td>\n",
              "      <td>0.0</td>\n",
              "      <td>0.0</td>\n",
              "    </tr>\n",
              "    <tr>\n",
              "      <th>80</th>\n",
              "      <td>chr13</td>\n",
              "      <td>48691385</td>\n",
              "      <td>N</td>\n",
              "      <td>24</td>\n",
              "      <td>cccccccccccccccccccccccc</td>\n",
              "      <td>BIGGIBDD?GEGBEI=GIIBGIGG</td>\n",
              "      <td>cccccccccccccccccccccccc</td>\n",
              "      <td>24</td>\n",
              "      <td>0</td>\n",
              "      <td>0.0</td>\n",
              "      <td>0</td>\n",
              "      <td>0.0</td>\n",
              "      <td>0</td>\n",
              "      <td>0.0</td>\n",
              "      <td>0</td>\n",
              "      <td>0.0</td>\n",
              "      <td>0.0</td>\n",
              "    </tr>\n",
              "    <tr>\n",
              "      <th>81</th>\n",
              "      <td>chr13</td>\n",
              "      <td>48691386</td>\n",
              "      <td>N</td>\n",
              "      <td>24</td>\n",
              "      <td>a$a$a$a$a$a$a$a$a$a$a$a$a$a$a$a$a$a$a$a$a$a$a$a$</td>\n",
              "      <td>EIGGIFDECGFGFGI2BIIDGIGG</td>\n",
              "      <td>aaaaaaaaaaaaaaaaaaaaaaaa</td>\n",
              "      <td>24</td>\n",
              "      <td>0</td>\n",
              "      <td>0.0</td>\n",
              "      <td>0</td>\n",
              "      <td>0.0</td>\n",
              "      <td>0</td>\n",
              "      <td>0.0</td>\n",
              "      <td>0</td>\n",
              "      <td>0.0</td>\n",
              "      <td>0.0</td>\n",
              "    </tr>\n",
              "  </tbody>\n",
              "</table>\n",
              "</div>"
            ],
            "text/plain": [
              "    chrom       pos _ref  count  \\\n",
              "77  chr13  48691382    N     24   \n",
              "78  chr13  48691383    N     24   \n",
              "79  chr13  48691384    N     24   \n",
              "80  chr13  48691385    N     24   \n",
              "81  chr13  48691386    N     24   \n",
              "\n",
              "                                           basereads  \\\n",
              "77                          cccccccccccccccccccccccc   \n",
              "78                          cccccccccccccccccccccccc   \n",
              "79                          tttttttttttttttttttttttt   \n",
              "80                          cccccccccccccccccccccccc   \n",
              "81  a$a$a$a$a$a$a$a$a$a$a$a$a$a$a$a$a$a$a$a$a$a$a$a$   \n",
              "\n",
              "                       quals                   matches  basecnt  A  A_ratio  \\\n",
              "77  ?IEGIHGG?GEGEBI=GIIDEIGG  cccccccccccccccccccccccc       24  0      0.0   \n",
              "78  EIGGIGGGAGFGFGI=GIIDGIGG  cccccccccccccccccccccccc       24  0      0.0   \n",
              "79  <IGGIHGG>GEGBGI8GII@GIGG  tttttttttttttttttttttttt       24  0      0.0   \n",
              "80  BIGGIBDD?GEGBEI=GIIBGIGG  cccccccccccccccccccccccc       24  0      0.0   \n",
              "81  EIGGIFDECGFGFGI2BIIDGIGG  aaaaaaaaaaaaaaaaaaaaaaaa       24  0      0.0   \n",
              "\n",
              "    C  C_ratio  G  G_ratio  T  T_ratio  shannon  \n",
              "77  0      0.0  0      0.0  0      0.0      0.0  \n",
              "78  0      0.0  0      0.0  0      0.0      0.0  \n",
              "79  0      0.0  0      0.0  0      0.0      0.0  \n",
              "80  0      0.0  0      0.0  0      0.0      0.0  \n",
              "81  0      0.0  0      0.0  0      0.0      0.0  "
            ]
          },
          "execution_count": 30,
          "metadata": {},
          "output_type": "execute_result"
        }
      ],
      "source": [
        "import numpy as np\n",
        "\n",
        "ratio_bases = ['A_ratio', 'C_ratio', 'G_ratio', 'T_ratio']\n",
        "let7g['shannon'] = let7g[ratio_bases].apply(lambda x: -sum([i * np.log2(i) for i in x if i > 0]), axis=1)\n",
        "let7f1['shannon'] = let7f1[ratio_bases].apply(lambda x: -sum([i * np.log2(i) for i in x if i > 0]), axis=1)\n",
        "let7d['shannon'] = let7d[ratio_bases].apply(lambda x: -sum([i * np.log2(i) for i in x if i > 0]), axis=1)\n",
        "let7f1.tail()"
      ]
    },
    {
      "cell_type": "code",
      "execution_count": 32,
      "metadata": {},
      "outputs": [
        {
          "data": {
            "text/plain": [
              "<BarContainer object of 87 artists>"
            ]
          },
          "execution_count": 32,
          "metadata": {},
          "output_type": "execute_result"
        },
        {
          "data": {
            "image/png": "[encoded data removed]",
            "text/plain": [
              "<Figure size 640x480 with 1 Axes>"
            ]
          },
          "metadata": {},
          "output_type": "display_data"
        }
      ],
      "source": [
        "import matplotlib.pyplot as plt\n",
        "# plt.bar(x = let7g.index, height = let7g['shannon'], color='loyalblue')\n",
        "plt.bar(x = let7f1.index, height = let7f1['shannon'], color='orange')\n",
        "plt.bar(x = let7d.index, height = let7d['shannon'], color='green')"
      ]
    },
    {
      "cell_type": "code",
      "execution_count": 33,
      "metadata": {},
      "outputs": [],
      "source": [
        "def output_BedGraph(df):\n",
        "    chrom = df['chrom']\n",
        "    start_pos = df['pos']\n",
        "    data = df['shannon']\n",
        "\n",
        "    config = 'track type=bedGraph name=\"Entropy\" description=\"Shannon entropy per base\" visibility=full color=0,0,200 altColor=200,0,0 autoScale=on maxHeightPixels=50:20:8 graphType=bar viewLimits=0:2'\n",
        "    print(config)\n",
        "    for chr, start, data in zip(chrom, start_pos, data):\n",
        "        print(f\"{chr} {start} {start+1} {data:.2f}\")"
      ]
    },
    {
      "cell_type": "code",
      "execution_count": null,
      "metadata": {},
      "outputs": [
        {
          "name": "stdout",
          "output_type": "stream",
          "text": [
            "chr9 106056039 106056040 0.00\n",
            "chr9 106056040 106056041 0.00\n",
            "chr9 106056041 106056042 0.00\n",
            "chr9 106056042 106056043 0.00\n",
            "chr9 106056043 106056044 0.00\n",
            "chr9 106056044 106056045 0.00\n",
            "chr9 106056045 106056046 0.85\n",
            "chr9 106056046 106056047 -0.00\n",
            "chr9 106056047 106056048 -0.00\n",
            "chr9 106056048 106056049 -0.00\n",
            "chr9 106056049 106056050 -0.00\n",
            "chr9 106056050 106056051 -0.00\n",
            "chr9 106056051 106056052 -0.00\n",
            "chr9 106056052 106056053 -0.00\n",
            "chr9 106056053 106056054 -0.00\n",
            "chr9 106056054 106056055 -0.00\n",
            "chr9 106056055 106056056 -0.00\n",
            "chr9 106056056 106056057 -0.00\n",
            "chr9 106056057 106056058 -0.00\n",
            "chr9 106056058 106056059 -0.00\n",
            "chr9 106056059 106056060 -0.00\n",
            "chr9 106056060 106056061 -0.00\n",
            "chr9 106056061 106056062 -0.00\n",
            "chr9 106056062 106056063 -0.00\n",
            "chr9 106056063 106056064 -0.00\n",
            "chr9 106056064 106056065 -0.00\n",
            "chr9 106056065 106056066 -0.00\n",
            "chr9 106056066 106056067 -0.00\n",
            "chr9 106056067 106056068 -0.00\n",
            "chr9 106056068 106056069 -0.00\n",
            "chr9 106056069 106056070 0.26\n",
            "chr9 106056070 106056071 -0.00\n",
            "chr9 106056071 106056072 -0.00\n",
            "chr9 106056072 106056073 0.23\n",
            "chr9 106056073 106056074 -0.00\n",
            "chr9 106056074 106056075 -0.00\n",
            "chr9 106056075 106056076 -0.00\n",
            "chr9 106056076 106056077 0.16\n",
            "chr9 106056077 106056078 -0.00\n",
            "chr9 106056078 106056079 -0.00\n",
            "chr9 106056079 106056080 -0.00\n",
            "chr9 106056080 106056081 -0.00\n",
            "chr9 106056081 106056082 -0.00\n",
            "chr9 106056082 106056083 -0.00\n",
            "chr9 106056083 106056084 -0.00\n",
            "chr9 106056084 106056085 0.17\n",
            "chr9 106056085 106056086 -0.00\n",
            "chr9 106056086 106056087 -0.00\n",
            "chr9 106056087 106056088 -0.00\n",
            "chr9 106056088 106056089 -0.00\n",
            "chr9 106056089 106056090 -0.00\n",
            "chr9 106056090 106056091 -0.00\n",
            "chr9 106056091 106056092 0.70\n",
            "chr9 106056092 106056093 -0.00\n",
            "chr9 106056093 106056094 0.65\n",
            "chr9 106056094 106056095 1.47\n",
            "chr9 106056095 106056096 0.41\n",
            "chr9 106056096 106056097 0.03\n",
            "chr9 106056097 106056098 -0.00\n",
            "chr9 106056098 106056099 -0.00\n",
            "chr9 106056099 106056100 -0.00\n",
            "chr9 106056100 106056101 0.07\n",
            "chr9 106056101 106056102 -0.00\n",
            "chr9 106056102 106056103 -0.00\n",
            "chr9 106056103 106056104 -0.00\n",
            "chr9 106056104 106056105 -0.00\n",
            "chr9 106056105 106056106 -0.00\n",
            "chr9 106056106 106056107 -0.00\n",
            "chr9 106056107 106056108 -0.00\n",
            "chr9 106056108 106056109 -0.00\n",
            "chr9 106056109 106056110 -0.00\n",
            "chr9 106056110 106056111 0.07\n",
            "chr9 106056111 106056112 -0.00\n",
            "chr9 106056112 106056113 -0.00\n",
            "chr9 106056113 106056114 -0.00\n",
            "chr9 106056114 106056115 -0.00\n",
            "chr9 106056115 106056116 0.07\n",
            "chr9 106056116 106056117 -0.00\n",
            "chr9 106056117 106056118 -0.00\n",
            "chr9 106056118 106056119 -0.00\n",
            "chr9 106056119 106056120 -0.00\n",
            "chr9 106056120 106056121 -0.00\n",
            "chr9 106056121 106056122 -0.00\n",
            "chr9 106056122 106056123 -0.00\n",
            "chr9 106056123 106056124 -0.00\n",
            "chr9 106056124 106056125 -0.00\n",
            "chr9 106056125 106056126 -0.00\n",
            "chr9 106056126 106056127 -0.00\n"
          ]
        }
      ],
      "source": [
        "output_BedGraph(let7g)"
      ]
    },
    {
      "cell_type": "code",
      "execution_count": 34,
      "metadata": {},
      "outputs": [
        {
          "name": "stdout",
          "output_type": "stream",
          "text": [
            "track type=bedGraph name=\"Entropy\" description=\"Shannon entropy per base\" visibility=full color=0,0,200 altColor=200,0,0 autoScale=on maxHeightPixels=50:20:8 graphType=bar viewLimits=0:2\n",
            "chr13 48691305 48691306 0.00\n",
            "chr13 48691306 48691307 0.00\n",
            "chr13 48691307 48691308 0.00\n",
            "chr13 48691308 48691309 0.00\n",
            "chr13 48691309 48691310 0.00\n",
            "chr13 48691310 48691311 0.06\n",
            "chr13 48691311 48691312 0.00\n",
            "chr13 48691312 48691313 0.19\n",
            "chr13 48691313 48691314 0.00\n",
            "chr13 48691314 48691315 0.00\n",
            "chr13 48691315 48691316 0.00\n",
            "chr13 48691316 48691317 0.00\n",
            "chr13 48691317 48691318 0.00\n",
            "chr13 48691318 48691319 0.00\n",
            "chr13 48691319 48691320 0.00\n",
            "chr13 48691320 48691321 0.00\n",
            "chr13 48691321 48691322 0.14\n",
            "chr13 48691322 48691323 0.00\n",
            "chr13 48691323 48691324 0.00\n",
            "chr13 48691324 48691325 0.00\n",
            "chr13 48691325 48691326 0.00\n",
            "chr13 48691326 48691327 0.00\n",
            "chr13 48691327 48691328 0.00\n",
            "chr13 48691328 48691329 0.00\n",
            "chr13 48691329 48691330 0.00\n",
            "chr13 48691330 48691331 0.00\n",
            "chr13 48691331 48691332 0.00\n",
            "chr13 48691332 48691333 0.00\n",
            "chr13 48691333 48691334 0.00\n",
            "chr13 48691334 48691335 0.00\n",
            "chr13 48691335 48691336 0.00\n",
            "chr13 48691336 48691337 0.04\n",
            "chr13 48691337 48691338 0.00\n",
            "chr13 48691338 48691339 0.00\n",
            "chr13 48691339 48691340 0.00\n",
            "chr13 48691340 48691341 0.00\n",
            "chr13 48691341 48691342 0.00\n",
            "chr13 48691342 48691343 0.00\n",
            "chr13 48691343 48691344 0.00\n",
            "chr13 48691344 48691345 0.00\n",
            "chr13 48691345 48691346 0.00\n",
            "chr13 48691346 48691347 0.00\n",
            "chr13 48691347 48691348 0.00\n",
            "chr13 48691348 48691349 0.00\n",
            "chr13 48691349 48691350 0.00\n",
            "chr13 48691350 48691351 0.00\n",
            "chr13 48691351 48691352 0.00\n",
            "chr13 48691352 48691353 0.00\n",
            "chr13 48691353 48691354 0.00\n",
            "chr13 48691354 48691355 0.00\n",
            "chr13 48691355 48691356 0.00\n",
            "chr13 48691356 48691357 0.00\n",
            "chr13 48691357 48691358 0.00\n",
            "chr13 48691358 48691359 0.00\n",
            "chr13 48691359 48691360 0.00\n",
            "chr13 48691360 48691361 0.00\n",
            "chr13 48691361 48691362 0.00\n",
            "chr13 48691362 48691363 0.00\n",
            "chr13 48691363 48691364 0.00\n",
            "chr13 48691364 48691365 0.00\n",
            "chr13 48691365 48691366 0.00\n",
            "chr13 48691366 48691367 0.00\n",
            "chr13 48691367 48691368 0.00\n",
            "chr13 48691368 48691369 0.00\n",
            "chr13 48691369 48691370 0.00\n",
            "chr13 48691370 48691371 0.00\n",
            "chr13 48691371 48691372 0.00\n",
            "chr13 48691372 48691373 0.00\n",
            "chr13 48691373 48691374 0.00\n",
            "chr13 48691374 48691375 0.00\n",
            "chr13 48691375 48691376 0.00\n",
            "chr13 48691376 48691377 0.00\n",
            "chr13 48691377 48691378 0.00\n",
            "chr13 48691378 48691379 0.00\n",
            "chr13 48691379 48691380 0.00\n",
            "chr13 48691380 48691381 0.00\n",
            "chr13 48691381 48691382 0.00\n",
            "chr13 48691382 48691383 0.00\n",
            "chr13 48691383 48691384 0.00\n",
            "chr13 48691384 48691385 0.00\n",
            "chr13 48691385 48691386 0.00\n",
            "chr13 48691386 48691387 0.00\n"
          ]
        }
      ],
      "source": [
        "output_BedGraph(let7f1)"
      ]
    },
    {
      "cell_type": "code",
      "execution_count": 35,
      "metadata": {},
      "outputs": [
        {
          "name": "stdout",
          "output_type": "stream",
          "text": [
            "track type=bedGraph name=\"Entropy\" description=\"Shannon entropy per base\" visibility=full color=0,0,200 altColor=200,0,0 autoScale=on maxHeightPixels=50:20:8 graphType=bar viewLimits=0:2\n",
            "chr13 48689488 48689489 0.38\n",
            "chr13 48689489 48689490 0.28\n",
            "chr13 48689490 48689491 0.24\n",
            "chr13 48689491 48689492 0.29\n",
            "chr13 48689492 48689493 0.00\n",
            "chr13 48689493 48689494 0.00\n",
            "chr13 48689494 48689495 0.00\n",
            "chr13 48689495 48689496 0.00\n",
            "chr13 48689496 48689497 0.00\n",
            "chr13 48689497 48689498 0.00\n",
            "chr13 48689498 48689499 0.00\n",
            "chr13 48689499 48689500 0.00\n",
            "chr13 48689500 48689501 0.00\n",
            "chr13 48689501 48689502 0.10\n",
            "chr13 48689502 48689503 0.14\n",
            "chr13 48689503 48689504 0.12\n",
            "chr13 48689504 48689505 0.00\n",
            "chr13 48689505 48689506 0.00\n",
            "chr13 48689506 48689507 0.00\n",
            "chr13 48689507 48689508 0.00\n",
            "chr13 48689508 48689509 0.00\n",
            "chr13 48689509 48689510 0.00\n",
            "chr13 48689510 48689511 0.00\n",
            "chr13 48689511 48689512 0.00\n",
            "chr13 48689512 48689513 0.00\n",
            "chr13 48689513 48689514 0.00\n",
            "chr13 48689514 48689515 0.00\n",
            "chr13 48689515 48689516 0.00\n",
            "chr13 48689516 48689517 0.00\n",
            "chr13 48689517 48689518 0.00\n",
            "chr13 48689518 48689519 0.00\n",
            "chr13 48689519 48689520 0.00\n",
            "chr13 48689520 48689521 0.00\n",
            "chr13 48689521 48689522 0.00\n",
            "chr13 48689522 48689523 0.00\n",
            "chr13 48689523 48689524 0.00\n",
            "chr13 48689524 48689525 0.00\n",
            "chr13 48689525 48689526 0.00\n",
            "chr13 48689526 48689527 0.00\n",
            "chr13 48689527 48689528 0.00\n",
            "chr13 48689528 48689529 0.00\n",
            "chr13 48689529 48689530 0.00\n",
            "chr13 48689530 48689531 0.00\n",
            "chr13 48689531 48689532 0.00\n",
            "chr13 48689532 48689533 0.00\n",
            "chr13 48689533 48689534 0.00\n",
            "chr13 48689534 48689535 0.00\n",
            "chr13 48689535 48689536 0.00\n",
            "chr13 48689536 48689537 0.00\n",
            "chr13 48689537 48689538 0.00\n",
            "chr13 48689538 48689539 0.00\n",
            "chr13 48689539 48689540 0.00\n",
            "chr13 48689540 48689541 0.00\n",
            "chr13 48689541 48689542 0.00\n",
            "chr13 48689542 48689543 0.00\n",
            "chr13 48689543 48689544 0.00\n",
            "chr13 48689544 48689545 0.00\n",
            "chr13 48689545 48689546 0.00\n",
            "chr13 48689546 48689547 0.00\n",
            "chr13 48689547 48689548 0.00\n",
            "chr13 48689548 48689549 0.00\n",
            "chr13 48689549 48689550 0.00\n",
            "chr13 48689550 48689551 0.00\n",
            "chr13 48689551 48689552 0.00\n",
            "chr13 48689552 48689553 0.00\n",
            "chr13 48689553 48689554 0.00\n",
            "chr13 48689554 48689555 0.00\n",
            "chr13 48689555 48689556 0.00\n",
            "chr13 48689556 48689557 0.00\n",
            "chr13 48689557 48689558 0.00\n",
            "chr13 48689558 48689559 0.00\n",
            "chr13 48689559 48689560 0.00\n",
            "chr13 48689560 48689561 0.00\n",
            "chr13 48689561 48689562 0.00\n",
            "chr13 48689562 48689563 0.00\n",
            "chr13 48689563 48689564 0.00\n",
            "chr13 48689564 48689565 0.00\n",
            "chr13 48689565 48689566 0.00\n",
            "chr13 48689566 48689567 0.00\n",
            "chr13 48689567 48689568 0.00\n",
            "chr13 48689568 48689569 0.00\n",
            "chr13 48689569 48689570 0.00\n",
            "chr13 48689570 48689571 0.00\n",
            "chr13 48689571 48689572 0.00\n",
            "chr13 48689572 48689573 0.00\n",
            "chr13 48689573 48689574 0.00\n",
            "chr13 48689574 48689575 0.00\n"
          ]
        }
      ],
      "source": [
        "output_BedGraph(let7d)"
      ]
    },
    {
      "cell_type": "markdown",
      "metadata": {},
      "source": [
        "# Output files(pdf) can be found at `binfo1-mission3` directory"
      ]
    },
    {
      "cell_type": "markdown",
      "metadata": {},
      "source": [
        "# Thank you!"
      ]
    }
  ],
  "metadata": {
    "colab": {
      "provenance": []
    },
    "kernelspec": {
      "display_name": "bioinfo1",
      "language": "python",
      "name": "python3"
    },
    "language_info": {
      "codemirror_mode": {
        "name": "ipython",
        "version": 3
      },
      "file_extension": ".py",
      "mimetype": "text/x-python",
      "name": "python",
      "nbconvert_exporter": "python",
      "pygments_lexer": "ipython3",
      "version": "3.12.10"
    }
  },
  "nbformat": 4,
  "nbformat_minor": 0
}
