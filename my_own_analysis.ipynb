{
 "cells": [
  {
   "cell_type": "code",
   "execution_count": 1,
   "id": "0af09207",
   "metadata": {},
   "outputs": [],
   "source": [
    "import pandas as pd\n",
    "import numpy as np\n",
    "import os\n",
    "import matplotlib.pyplot as plt\n",
    "import seaborn as sns"
   ]
  },
  {
   "cell_type": "markdown",
   "id": "01eb7991",
   "metadata": {},
   "source": [
    "# Finding possible interactors of LIN28A which might cause peri-ER localization\n",
    "\n",
    "The original article suggested strong evidences such that:\n",
    "- Integral membrane protein coding mRNAs are highly enriched by LIN28A (and also, their translation highly downregulated)\n",
    "- Specifically, cotranslationally ER translocated mRNAs are highly enriched by LIN28A\n",
    "- LIN28A is localized to peri-ER area\n",
    "\n",
    "But since motif score analysis done by HMM didn't show differences between ER-associated mRNAs and non-ER-associated mRNAs, we still don't know why LIN28A is localized to peri-ER area. So I will start from following hypotheses:\n",
    "1. LIN28A interacts with ER surface protein/lipid\n",
    "2. LIN28A interacts with RBP or adapter protein s.t. cotranslationally bounds to ER-associated mRNA.\n",
    "3. LIN28A directly recognizes ER-associated mRNA sequence/structure/modification context."
   ]
  },
  {
   "cell_type": "markdown",
   "id": "b4755aed",
   "metadata": {},
   "source": [
    "Performed some pilot research, but found no evidences supporting hypothesis 1 and 2. Using other CLIP-seq or Ribosome profiling (a.k.a. Ribosome footprinting) data to find other novel recognition site of LIN28A would be better."
   ]
  },
  {
   "cell_type": "code",
   "execution_count": null,
   "id": "e3201964",
   "metadata": {},
   "outputs": [],
   "source": [
    "# So let's start from here..."
   ]
  }
 ],
 "metadata": {
  "kernelspec": {
   "display_name": "lab",
   "language": "python",
   "name": "python3"
  },
  "language_info": {
   "codemirror_mode": {
    "name": "ipython",
    "version": 3
   },
   "file_extension": ".py",
   "mimetype": "text/x-python",
   "name": "python",
   "nbconvert_exporter": "python",
   "pygments_lexer": "ipython3",
   "version": "3.12.10"
  }
 },
 "nbformat": 4,
 "nbformat_minor": 5
}
